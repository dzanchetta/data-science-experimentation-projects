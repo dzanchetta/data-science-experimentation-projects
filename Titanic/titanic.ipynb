{
 "cells": [
  {
   "cell_type": "markdown",
   "id": "israeli-willow",
   "metadata": {},
   "source": [
    "# Titanic - Machine Learning from Disaster\n",
    "\n",
    "> Kaggle beginner competetion"
   ]
  },
  {
   "cell_type": "markdown",
   "id": "talented-venezuela",
   "metadata": {},
   "source": [
    "Some useful information about the information available in the datasets:\n",
    "* survival\tSurvival\t0 = No, 1 = Yes\n",
    "* pclass\tTicket class\t1 = 1st, 2 = 2nd, 3 = 3rd\n",
    "* sex\tSex\t\n",
    "* Age\tAge in years\t\n",
    "* sibsp\t# of siblings / spouses aboard the Titanic\t\n",
    "* parch\t# of parents / children aboard the Titanic\t\n",
    "* ticket\tTicket number\t\n",
    "* fare\tPassenger fare\t\n",
    "* cabin\tCabin number\t\n",
    "* embarked\tPort of Embarkation\tC = Cherbourg, Q = Queenstown, S = Southampton\n",
    "\n",
    "*Variable Notes*\n",
    "pclass: A proxy for socio-economic status (SES)\n",
    "1st = Upper\n",
    "2nd = Middle\n",
    "3rd = Lower\n",
    "\n",
    "age: Age is fractional if less than 1. If the age is estimated, is it in the form of xx.5\n",
    "\n",
    "sibsp: The dataset defines family relations in this way...\n",
    "Sibling = brother, sister, stepbrother, stepsister\n",
    "Spouse = husband, wife (mistresses and fiancés were ignored)\n",
    "\n",
    "parch: The dataset defines family relations in this way...\n",
    "Parent = mother, father\n",
    "Child = daughter, son, stepdaughter, stepson\n",
    "Some children travelled only with a nanny, therefore parch=0 for them."
   ]
  },
  {
   "cell_type": "markdown",
   "id": "national-vintage",
   "metadata": {},
   "source": [
    "## Loading Training Dataset"
   ]
  },
  {
   "cell_type": "code",
   "execution_count": 1,
   "id": "phantom-firewall",
   "metadata": {},
   "outputs": [
    {
     "data": {
      "text/html": [
       "<div>\n",
       "<style scoped>\n",
       "    .dataframe tbody tr th:only-of-type {\n",
       "        vertical-align: middle;\n",
       "    }\n",
       "\n",
       "    .dataframe tbody tr th {\n",
       "        vertical-align: top;\n",
       "    }\n",
       "\n",
       "    .dataframe thead th {\n",
       "        text-align: right;\n",
       "    }\n",
       "</style>\n",
       "<table border=\"1\" class=\"dataframe\">\n",
       "  <thead>\n",
       "    <tr style=\"text-align: right;\">\n",
       "      <th></th>\n",
       "      <th>PassengerId</th>\n",
       "      <th>Survived</th>\n",
       "      <th>Pclass</th>\n",
       "      <th>Name</th>\n",
       "      <th>Sex</th>\n",
       "      <th>Age</th>\n",
       "      <th>SibSp</th>\n",
       "      <th>Parch</th>\n",
       "      <th>Ticket</th>\n",
       "      <th>Fare</th>\n",
       "      <th>Cabin</th>\n",
       "      <th>Embarked</th>\n",
       "    </tr>\n",
       "  </thead>\n",
       "  <tbody>\n",
       "    <tr>\n",
       "      <th>0</th>\n",
       "      <td>1</td>\n",
       "      <td>0</td>\n",
       "      <td>3</td>\n",
       "      <td>Braund, Mr. Owen Harris</td>\n",
       "      <td>male</td>\n",
       "      <td>22.0</td>\n",
       "      <td>1</td>\n",
       "      <td>0</td>\n",
       "      <td>A/5 21171</td>\n",
       "      <td>7.2500</td>\n",
       "      <td>NaN</td>\n",
       "      <td>S</td>\n",
       "    </tr>\n",
       "    <tr>\n",
       "      <th>1</th>\n",
       "      <td>2</td>\n",
       "      <td>1</td>\n",
       "      <td>1</td>\n",
       "      <td>Cumings, Mrs. John Bradley (Florence Briggs Th...</td>\n",
       "      <td>female</td>\n",
       "      <td>38.0</td>\n",
       "      <td>1</td>\n",
       "      <td>0</td>\n",
       "      <td>PC 17599</td>\n",
       "      <td>71.2833</td>\n",
       "      <td>C85</td>\n",
       "      <td>C</td>\n",
       "    </tr>\n",
       "    <tr>\n",
       "      <th>2</th>\n",
       "      <td>3</td>\n",
       "      <td>1</td>\n",
       "      <td>3</td>\n",
       "      <td>Heikkinen, Miss. Laina</td>\n",
       "      <td>female</td>\n",
       "      <td>26.0</td>\n",
       "      <td>0</td>\n",
       "      <td>0</td>\n",
       "      <td>STON/O2. 3101282</td>\n",
       "      <td>7.9250</td>\n",
       "      <td>NaN</td>\n",
       "      <td>S</td>\n",
       "    </tr>\n",
       "    <tr>\n",
       "      <th>3</th>\n",
       "      <td>4</td>\n",
       "      <td>1</td>\n",
       "      <td>1</td>\n",
       "      <td>Futrelle, Mrs. Jacques Heath (Lily May Peel)</td>\n",
       "      <td>female</td>\n",
       "      <td>35.0</td>\n",
       "      <td>1</td>\n",
       "      <td>0</td>\n",
       "      <td>113803</td>\n",
       "      <td>53.1000</td>\n",
       "      <td>C123</td>\n",
       "      <td>S</td>\n",
       "    </tr>\n",
       "    <tr>\n",
       "      <th>4</th>\n",
       "      <td>5</td>\n",
       "      <td>0</td>\n",
       "      <td>3</td>\n",
       "      <td>Allen, Mr. William Henry</td>\n",
       "      <td>male</td>\n",
       "      <td>35.0</td>\n",
       "      <td>0</td>\n",
       "      <td>0</td>\n",
       "      <td>373450</td>\n",
       "      <td>8.0500</td>\n",
       "      <td>NaN</td>\n",
       "      <td>S</td>\n",
       "    </tr>\n",
       "  </tbody>\n",
       "</table>\n",
       "</div>"
      ],
      "text/plain": [
       "   PassengerId  Survived  Pclass  \\\n",
       "0            1         0       3   \n",
       "1            2         1       1   \n",
       "2            3         1       3   \n",
       "3            4         1       1   \n",
       "4            5         0       3   \n",
       "\n",
       "                                                Name     Sex   Age  SibSp  \\\n",
       "0                            Braund, Mr. Owen Harris    male  22.0      1   \n",
       "1  Cumings, Mrs. John Bradley (Florence Briggs Th...  female  38.0      1   \n",
       "2                             Heikkinen, Miss. Laina  female  26.0      0   \n",
       "3       Futrelle, Mrs. Jacques Heath (Lily May Peel)  female  35.0      1   \n",
       "4                           Allen, Mr. William Henry    male  35.0      0   \n",
       "\n",
       "   Parch            Ticket     Fare Cabin Embarked  \n",
       "0      0         A/5 21171   7.2500   NaN        S  \n",
       "1      0          PC 17599  71.2833   C85        C  \n",
       "2      0  STON/O2. 3101282   7.9250   NaN        S  \n",
       "3      0            113803  53.1000  C123        S  \n",
       "4      0            373450   8.0500   NaN        S  "
      ]
     },
     "execution_count": 1,
     "metadata": {},
     "output_type": "execute_result"
    }
   ],
   "source": [
    "import numpy as np\n",
    "import pandas as pd\n",
    "import seaborn as sns\n",
    "from sklearn.preprocessing import LabelEncoder\n",
    "\n",
    "df_train = pd.read_csv(\"/Users/daniel/Documents/Experimentation-DataScienceProjects/Titanic/titanic/train.csv\")\n",
    "df_train.head()"
   ]
  },
  {
   "cell_type": "markdown",
   "id": "standing-mechanics",
   "metadata": {},
   "source": [
    "## Loading Test Dataset"
   ]
  },
  {
   "cell_type": "code",
   "execution_count": 2,
   "id": "lucky-colony",
   "metadata": {},
   "outputs": [
    {
     "data": {
      "text/html": [
       "<div>\n",
       "<style scoped>\n",
       "    .dataframe tbody tr th:only-of-type {\n",
       "        vertical-align: middle;\n",
       "    }\n",
       "\n",
       "    .dataframe tbody tr th {\n",
       "        vertical-align: top;\n",
       "    }\n",
       "\n",
       "    .dataframe thead th {\n",
       "        text-align: right;\n",
       "    }\n",
       "</style>\n",
       "<table border=\"1\" class=\"dataframe\">\n",
       "  <thead>\n",
       "    <tr style=\"text-align: right;\">\n",
       "      <th></th>\n",
       "      <th>PassengerId</th>\n",
       "      <th>Pclass</th>\n",
       "      <th>Name</th>\n",
       "      <th>Sex</th>\n",
       "      <th>Age</th>\n",
       "      <th>SibSp</th>\n",
       "      <th>Parch</th>\n",
       "      <th>Ticket</th>\n",
       "      <th>Fare</th>\n",
       "      <th>Cabin</th>\n",
       "      <th>Embarked</th>\n",
       "    </tr>\n",
       "  </thead>\n",
       "  <tbody>\n",
       "    <tr>\n",
       "      <th>0</th>\n",
       "      <td>892</td>\n",
       "      <td>3</td>\n",
       "      <td>Kelly, Mr. James</td>\n",
       "      <td>male</td>\n",
       "      <td>34.5</td>\n",
       "      <td>0</td>\n",
       "      <td>0</td>\n",
       "      <td>330911</td>\n",
       "      <td>7.8292</td>\n",
       "      <td>NaN</td>\n",
       "      <td>Q</td>\n",
       "    </tr>\n",
       "    <tr>\n",
       "      <th>1</th>\n",
       "      <td>893</td>\n",
       "      <td>3</td>\n",
       "      <td>Wilkes, Mrs. James (Ellen Needs)</td>\n",
       "      <td>female</td>\n",
       "      <td>47.0</td>\n",
       "      <td>1</td>\n",
       "      <td>0</td>\n",
       "      <td>363272</td>\n",
       "      <td>7.0000</td>\n",
       "      <td>NaN</td>\n",
       "      <td>S</td>\n",
       "    </tr>\n",
       "    <tr>\n",
       "      <th>2</th>\n",
       "      <td>894</td>\n",
       "      <td>2</td>\n",
       "      <td>Myles, Mr. Thomas Francis</td>\n",
       "      <td>male</td>\n",
       "      <td>62.0</td>\n",
       "      <td>0</td>\n",
       "      <td>0</td>\n",
       "      <td>240276</td>\n",
       "      <td>9.6875</td>\n",
       "      <td>NaN</td>\n",
       "      <td>Q</td>\n",
       "    </tr>\n",
       "    <tr>\n",
       "      <th>3</th>\n",
       "      <td>895</td>\n",
       "      <td>3</td>\n",
       "      <td>Wirz, Mr. Albert</td>\n",
       "      <td>male</td>\n",
       "      <td>27.0</td>\n",
       "      <td>0</td>\n",
       "      <td>0</td>\n",
       "      <td>315154</td>\n",
       "      <td>8.6625</td>\n",
       "      <td>NaN</td>\n",
       "      <td>S</td>\n",
       "    </tr>\n",
       "    <tr>\n",
       "      <th>4</th>\n",
       "      <td>896</td>\n",
       "      <td>3</td>\n",
       "      <td>Hirvonen, Mrs. Alexander (Helga E Lindqvist)</td>\n",
       "      <td>female</td>\n",
       "      <td>22.0</td>\n",
       "      <td>1</td>\n",
       "      <td>1</td>\n",
       "      <td>3101298</td>\n",
       "      <td>12.2875</td>\n",
       "      <td>NaN</td>\n",
       "      <td>S</td>\n",
       "    </tr>\n",
       "  </tbody>\n",
       "</table>\n",
       "</div>"
      ],
      "text/plain": [
       "   PassengerId  Pclass                                          Name     Sex  \\\n",
       "0          892       3                              Kelly, Mr. James    male   \n",
       "1          893       3              Wilkes, Mrs. James (Ellen Needs)  female   \n",
       "2          894       2                     Myles, Mr. Thomas Francis    male   \n",
       "3          895       3                              Wirz, Mr. Albert    male   \n",
       "4          896       3  Hirvonen, Mrs. Alexander (Helga E Lindqvist)  female   \n",
       "\n",
       "    Age  SibSp  Parch   Ticket     Fare Cabin Embarked  \n",
       "0  34.5      0      0   330911   7.8292   NaN        Q  \n",
       "1  47.0      1      0   363272   7.0000   NaN        S  \n",
       "2  62.0      0      0   240276   9.6875   NaN        Q  \n",
       "3  27.0      0      0   315154   8.6625   NaN        S  \n",
       "4  22.0      1      1  3101298  12.2875   NaN        S  "
      ]
     },
     "execution_count": 2,
     "metadata": {},
     "output_type": "execute_result"
    }
   ],
   "source": [
    "df_test = pd.read_csv(\"/Users/daniel/Documents/Experimentation-DataScienceProjects/Titanic/titanic/test.csv\")\n",
    "df_test.head()"
   ]
  },
  {
   "cell_type": "code",
   "execution_count": 3,
   "id": "blocked-mercury",
   "metadata": {},
   "outputs": [
    {
     "name": "stdout",
     "output_type": "stream",
     "text": [
      "(891, 12)\n",
      "(418, 11)\n"
     ]
    }
   ],
   "source": [
    "# Shape of the training and test datasets\n",
    "print(df_train.shape)\n",
    "print(df_test.shape)"
   ]
  },
  {
   "cell_type": "markdown",
   "id": "isolated-overall",
   "metadata": {},
   "source": [
    "## Data Preprocessing"
   ]
  },
  {
   "cell_type": "markdown",
   "id": "royal-wilderness",
   "metadata": {},
   "source": [
    "### Imputing Missing Data"
   ]
  },
  {
   "cell_type": "code",
   "execution_count": 4,
   "id": "charged-links",
   "metadata": {},
   "outputs": [
    {
     "data": {
      "text/plain": [
       "PassengerId      0\n",
       "Survived         0\n",
       "Pclass           0\n",
       "Name             0\n",
       "Sex              0\n",
       "Age            177\n",
       "SibSp            0\n",
       "Parch            0\n",
       "Ticket           0\n",
       "Fare             0\n",
       "Cabin          687\n",
       "Embarked         2\n",
       "dtype: int64"
      ]
     },
     "execution_count": 4,
     "metadata": {},
     "output_type": "execute_result"
    }
   ],
   "source": [
    "len(df_train)\n",
    "#Missing values training dataset\n",
    "df_train.isna().sum()"
   ]
  },
  {
   "cell_type": "code",
   "execution_count": 5,
   "id": "paperback-begin",
   "metadata": {},
   "outputs": [
    {
     "data": {
      "text/plain": [
       "PassengerId     0.000000\n",
       "Survived        0.000000\n",
       "Pclass          0.000000\n",
       "Name            0.000000\n",
       "Sex             0.000000\n",
       "Age            19.865320\n",
       "SibSp           0.000000\n",
       "Parch           0.000000\n",
       "Ticket          0.000000\n",
       "Fare            0.000000\n",
       "Cabin          77.104377\n",
       "Embarked        0.224467\n",
       "dtype: float64"
      ]
     },
     "execution_count": 5,
     "metadata": {},
     "output_type": "execute_result"
    }
   ],
   "source": [
    "#percentage of missing values for each column\n",
    "df_train.isna().sum()/len(df_train)*100"
   ]
  },
  {
   "cell_type": "markdown",
   "id": "attractive-video",
   "metadata": {},
   "source": [
    "At this point it was identified that in the training dataset, 77% of the cabin feature has missing values, whereas around 19% of age is missing. Honestly, I don't think the cabin has great added value for this exercise, so I decided to apply two different techniques:\n",
    "* Drop the column Cabin, Ticket and Name\n",
    "* Replace the missing values in Age. In Age, the functional interpolate() is used"
   ]
  },
  {
   "cell_type": "code",
   "execution_count": 6,
   "id": "packed-facing",
   "metadata": {},
   "outputs": [
    {
     "data": {
      "text/html": [
       "<div>\n",
       "<style scoped>\n",
       "    .dataframe tbody tr th:only-of-type {\n",
       "        vertical-align: middle;\n",
       "    }\n",
       "\n",
       "    .dataframe tbody tr th {\n",
       "        vertical-align: top;\n",
       "    }\n",
       "\n",
       "    .dataframe thead th {\n",
       "        text-align: right;\n",
       "    }\n",
       "</style>\n",
       "<table border=\"1\" class=\"dataframe\">\n",
       "  <thead>\n",
       "    <tr style=\"text-align: right;\">\n",
       "      <th></th>\n",
       "      <th>PassengerId</th>\n",
       "      <th>Survived</th>\n",
       "      <th>Pclass</th>\n",
       "      <th>Sex</th>\n",
       "      <th>Age</th>\n",
       "      <th>SibSp</th>\n",
       "      <th>Parch</th>\n",
       "      <th>Fare</th>\n",
       "      <th>Embarked</th>\n",
       "    </tr>\n",
       "  </thead>\n",
       "  <tbody>\n",
       "    <tr>\n",
       "      <th>0</th>\n",
       "      <td>1</td>\n",
       "      <td>0</td>\n",
       "      <td>3</td>\n",
       "      <td>male</td>\n",
       "      <td>22.0</td>\n",
       "      <td>1</td>\n",
       "      <td>0</td>\n",
       "      <td>7.2500</td>\n",
       "      <td>S</td>\n",
       "    </tr>\n",
       "    <tr>\n",
       "      <th>1</th>\n",
       "      <td>2</td>\n",
       "      <td>1</td>\n",
       "      <td>1</td>\n",
       "      <td>female</td>\n",
       "      <td>38.0</td>\n",
       "      <td>1</td>\n",
       "      <td>0</td>\n",
       "      <td>71.2833</td>\n",
       "      <td>C</td>\n",
       "    </tr>\n",
       "    <tr>\n",
       "      <th>2</th>\n",
       "      <td>3</td>\n",
       "      <td>1</td>\n",
       "      <td>3</td>\n",
       "      <td>female</td>\n",
       "      <td>26.0</td>\n",
       "      <td>0</td>\n",
       "      <td>0</td>\n",
       "      <td>7.9250</td>\n",
       "      <td>S</td>\n",
       "    </tr>\n",
       "    <tr>\n",
       "      <th>3</th>\n",
       "      <td>4</td>\n",
       "      <td>1</td>\n",
       "      <td>1</td>\n",
       "      <td>female</td>\n",
       "      <td>35.0</td>\n",
       "      <td>1</td>\n",
       "      <td>0</td>\n",
       "      <td>53.1000</td>\n",
       "      <td>S</td>\n",
       "    </tr>\n",
       "    <tr>\n",
       "      <th>4</th>\n",
       "      <td>5</td>\n",
       "      <td>0</td>\n",
       "      <td>3</td>\n",
       "      <td>male</td>\n",
       "      <td>35.0</td>\n",
       "      <td>0</td>\n",
       "      <td>0</td>\n",
       "      <td>8.0500</td>\n",
       "      <td>S</td>\n",
       "    </tr>\n",
       "  </tbody>\n",
       "</table>\n",
       "</div>"
      ],
      "text/plain": [
       "   PassengerId  Survived  Pclass     Sex   Age  SibSp  Parch     Fare Embarked\n",
       "0            1         0       3    male  22.0      1      0   7.2500        S\n",
       "1            2         1       1  female  38.0      1      0  71.2833        C\n",
       "2            3         1       3  female  26.0      0      0   7.9250        S\n",
       "3            4         1       1  female  35.0      1      0  53.1000        S\n",
       "4            5         0       3    male  35.0      0      0   8.0500        S"
      ]
     },
     "execution_count": 6,
     "metadata": {},
     "output_type": "execute_result"
    }
   ],
   "source": [
    "del df_train['Cabin']\n",
    "del df_train['Ticket']\n",
    "del df_train['Name']\n",
    "df_train.head()"
   ]
  },
  {
   "cell_type": "code",
   "execution_count": 7,
   "id": "renewable-accused",
   "metadata": {},
   "outputs": [
    {
     "data": {
      "text/plain": [
       "PassengerId      int64\n",
       "Survived         int64\n",
       "Pclass           int64\n",
       "Sex             object\n",
       "Age            float64\n",
       "SibSp            int64\n",
       "Parch            int64\n",
       "Fare           float64\n",
       "Embarked        object\n",
       "dtype: object"
      ]
     },
     "execution_count": 7,
     "metadata": {},
     "output_type": "execute_result"
    }
   ],
   "source": [
    "#Checking the feature types\n",
    "df_train.dtypes"
   ]
  },
  {
   "cell_type": "code",
   "execution_count": 8,
   "id": "ultimate-ground",
   "metadata": {},
   "outputs": [
    {
     "data": {
      "text/plain": [
       "PassengerId    0.0\n",
       "Survived       0.0\n",
       "Pclass         0.0\n",
       "Sex            0.0\n",
       "Age            0.0\n",
       "SibSp          0.0\n",
       "Parch          0.0\n",
       "Fare           0.0\n",
       "Embarked       0.0\n",
       "dtype: float64"
      ]
     },
     "execution_count": 8,
     "metadata": {},
     "output_type": "execute_result"
    }
   ],
   "source": [
    "#Interpolate on feature Age\n",
    "df_train['Age'] = df_train['Age'].interpolate(method='linear',limit_direction='forward')\n",
    "\n",
    "df_train.dropna(subset=['Embarked'],axis=0,inplace=True)\n",
    "\n",
    "#Now we check if there are still missing values\n",
    "df_train.isna().sum()/len(df_train)*100"
   ]
  },
  {
   "cell_type": "markdown",
   "id": "supposed-consensus",
   "metadata": {},
   "source": [
    "Great!!! No more missing values!"
   ]
  },
  {
   "cell_type": "markdown",
   "id": "compact-appreciation",
   "metadata": {},
   "source": [
    "## Outliers Detection and Treatment"
   ]
  },
  {
   "cell_type": "code",
   "execution_count": 9,
   "id": "alone-couple",
   "metadata": {},
   "outputs": [
    {
     "name": "stdout",
     "output_type": "stream",
     "text": [
      "Skew: 0.363861\n"
     ]
    },
    {
     "data": {
      "text/plain": [
       "count    889.000000\n",
       "mean      29.680450\n",
       "std       13.872944\n",
       "min        0.420000\n",
       "25%       21.000000\n",
       "50%       28.500000\n",
       "75%       38.000000\n",
       "max       80.000000\n",
       "Name: Age, dtype: float64"
      ]
     },
     "execution_count": 9,
     "metadata": {},
     "output_type": "execute_result"
    }
   ],
   "source": [
    "#Tutorial: https://www.pluralsight.com/guides/cleaning-up-data-from-outliers\n",
    "\n",
    "#Identifying Outliers with Skewness - Variable Age\n",
    "print('Skew: %3f' % df_train['Age'].skew())\n",
    "df_train['Age'].describe() "
   ]
  },
  {
   "cell_type": "code",
   "execution_count": 10,
   "id": "brilliant-irrigation",
   "metadata": {},
   "outputs": [
    {
     "name": "stdout",
     "output_type": "stream",
     "text": [
      "Skew: 4.801440\n"
     ]
    },
    {
     "data": {
      "text/plain": [
       "count    889.000000\n",
       "mean      32.096681\n",
       "std       49.697504\n",
       "min        0.000000\n",
       "25%        7.895800\n",
       "50%       14.454200\n",
       "75%       31.000000\n",
       "max      512.329200\n",
       "Name: Fare, dtype: float64"
      ]
     },
     "execution_count": 10,
     "metadata": {},
     "output_type": "execute_result"
    }
   ],
   "source": [
    "#Identifying Outliers with Skewness - Variable Fare\n",
    "print('Skew: %3f' % df_train['Fare'].skew())\n",
    "df_train['Fare'].describe() "
   ]
  },
  {
   "cell_type": "code",
   "execution_count": 11,
   "id": "heard-violin",
   "metadata": {},
   "outputs": [
    {
     "data": {
      "text/plain": [
       "<AxesSubplot:xlabel='Survived', ylabel='Fare'>"
      ]
     },
     "execution_count": 11,
     "metadata": {},
     "output_type": "execute_result"
    },
    {
     "data": {
      "image/png": "[encoded data removed]",
      "text/plain": [
       "<Figure size 432x288 with 1 Axes>"
      ]
     },
     "metadata": {
      "needs_background": "light"
     },
     "output_type": "display_data"
    }
   ],
   "source": [
    "sns.boxplot(x='Survived',y='Fare',data=df_train)"
   ]
  },
  {
   "cell_type": "markdown",
   "id": "rental-priority",
   "metadata": {},
   "source": [
    "Finally, Age is not a good variable to apply outlier treatment (see that the max value is 80, which is ok). Whereas, the skewness value of 4.8 seen in \"Fare\" shows that has a right-skewed distribution, indicating the presence of extreme higher values. The maximum 'Fare' value of 512,3292 proves this point."
   ]
  },
  {
   "cell_type": "code",
   "execution_count": 12,
   "id": "rough-settlement",
   "metadata": {},
   "outputs": [
    {
     "name": "stdout",
     "output_type": "stream",
     "text": [
      "14.4542\n",
      "Values after outlier treatment: \n"
     ]
    },
    {
     "data": {
      "text/plain": [
       "count    889.000000\n",
       "mean      30.416563\n",
       "std       41.096652\n",
       "min        0.000000\n",
       "25%        7.895800\n",
       "50%       14.454200\n",
       "75%       30.500000\n",
       "max      263.000000\n",
       "Name: Fare, dtype: float64"
      ]
     },
     "execution_count": 12,
     "metadata": {},
     "output_type": "execute_result"
    }
   ],
   "source": [
    "#Replacing Outliers with Median Values\n",
    "MedianFare = df_train['Fare'].quantile(0.50)\n",
    "print(MedianFare) #Median value\n",
    "#Output: 14,45\n",
    "df_train.loc[df_train.Fare>512, 'Fare'] = MedianFare\n",
    "\n",
    "print('Values after outlier treatment: ')\n",
    "df_train['Fare'].describe()"
   ]
  },
  {
   "cell_type": "markdown",
   "id": "nominated-jordan",
   "metadata": {},
   "source": [
    "## Data Transformation\n",
    "\n",
    "Let's now transform some of the features:\n",
    "* \"Sex\" \n",
    "* \"Embarked\"\n",
    "* \"Age\" -> transform into bins first and, then, encode\n",
    "* \"Fare\" -> transform into bins first and, then, encode\n",
    "\n",
    "The decision to group Age and Fare into bins is to ensure a better model prediction and to avoid over-fitting"
   ]
  },
  {
   "cell_type": "code",
   "execution_count": 13,
   "id": "growing-princess",
   "metadata": {},
   "outputs": [
    {
     "data": {
      "text/html": [
       "<div>\n",
       "<style scoped>\n",
       "    .dataframe tbody tr th:only-of-type {\n",
       "        vertical-align: middle;\n",
       "    }\n",
       "\n",
       "    .dataframe tbody tr th {\n",
       "        vertical-align: top;\n",
       "    }\n",
       "\n",
       "    .dataframe thead th {\n",
       "        text-align: right;\n",
       "    }\n",
       "</style>\n",
       "<table border=\"1\" class=\"dataframe\">\n",
       "  <thead>\n",
       "    <tr style=\"text-align: right;\">\n",
       "      <th></th>\n",
       "      <th>PassengerId</th>\n",
       "      <th>Survived</th>\n",
       "      <th>Pclass</th>\n",
       "      <th>Sex</th>\n",
       "      <th>Age</th>\n",
       "      <th>SibSp</th>\n",
       "      <th>Parch</th>\n",
       "      <th>Fare</th>\n",
       "      <th>Embarked</th>\n",
       "    </tr>\n",
       "  </thead>\n",
       "  <tbody>\n",
       "    <tr>\n",
       "      <th>0</th>\n",
       "      <td>1</td>\n",
       "      <td>0</td>\n",
       "      <td>3</td>\n",
       "      <td>2</td>\n",
       "      <td>(19.0, 26.0]</td>\n",
       "      <td>1</td>\n",
       "      <td>0</td>\n",
       "      <td>(-0.001, 7.854]</td>\n",
       "      <td>0</td>\n",
       "    </tr>\n",
       "    <tr>\n",
       "      <th>1</th>\n",
       "      <td>2</td>\n",
       "      <td>1</td>\n",
       "      <td>1</td>\n",
       "      <td>1</td>\n",
       "      <td>(31.5, 40.0]</td>\n",
       "      <td>1</td>\n",
       "      <td>0</td>\n",
       "      <td>(39.6, 263.0]</td>\n",
       "      <td>1</td>\n",
       "    </tr>\n",
       "    <tr>\n",
       "      <th>2</th>\n",
       "      <td>3</td>\n",
       "      <td>1</td>\n",
       "      <td>3</td>\n",
       "      <td>1</td>\n",
       "      <td>(19.0, 26.0]</td>\n",
       "      <td>0</td>\n",
       "      <td>0</td>\n",
       "      <td>(7.854, 10.5]</td>\n",
       "      <td>0</td>\n",
       "    </tr>\n",
       "    <tr>\n",
       "      <th>3</th>\n",
       "      <td>4</td>\n",
       "      <td>1</td>\n",
       "      <td>1</td>\n",
       "      <td>1</td>\n",
       "      <td>(31.5, 40.0]</td>\n",
       "      <td>1</td>\n",
       "      <td>0</td>\n",
       "      <td>(39.6, 263.0]</td>\n",
       "      <td>0</td>\n",
       "    </tr>\n",
       "    <tr>\n",
       "      <th>4</th>\n",
       "      <td>5</td>\n",
       "      <td>0</td>\n",
       "      <td>3</td>\n",
       "      <td>2</td>\n",
       "      <td>(31.5, 40.0]</td>\n",
       "      <td>0</td>\n",
       "      <td>0</td>\n",
       "      <td>(7.854, 10.5]</td>\n",
       "      <td>0</td>\n",
       "    </tr>\n",
       "  </tbody>\n",
       "</table>\n",
       "</div>"
      ],
      "text/plain": [
       "   PassengerId  Survived  Pclass  Sex           Age  SibSp  Parch  \\\n",
       "0            1         0       3    2  (19.0, 26.0]      1      0   \n",
       "1            2         1       1    1  (31.5, 40.0]      1      0   \n",
       "2            3         1       3    1  (19.0, 26.0]      0      0   \n",
       "3            4         1       1    1  (31.5, 40.0]      1      0   \n",
       "4            5         0       3    2  (31.5, 40.0]      0      0   \n",
       "\n",
       "              Fare  Embarked  \n",
       "0  (-0.001, 7.854]         0  \n",
       "1    (39.6, 263.0]         1  \n",
       "2    (7.854, 10.5]         0  \n",
       "3    (39.6, 263.0]         0  \n",
       "4    (7.854, 10.5]         0  "
      ]
     },
     "execution_count": 13,
     "metadata": {},
     "output_type": "execute_result"
    }
   ],
   "source": [
    "#Option 1:\n",
    "#df_train['Sex'] = df_train['Sex'].astype('category').cat.codes\n",
    "#df_train['Embarked'] = df_train['Embarked'].astype('category').cat.codes\n",
    "\n",
    "#Option 2 (which I decided to use because it clearly express the values that is transformed):\n",
    "df_train['Sex'] = df_train['Sex'].map({'female':1,'male':2}).astype('int')\n",
    "df_train['Embarked'] = df_train['Embarked'].map({'S':0,'C':1,'Q':2}).astype('int')\n",
    "\n",
    "df_train['Age'] = pd.qcut(df_train['Age'],5)#I think 5 bins is a good number\n",
    "df_train['Fare'] = pd.qcut(df_train['Fare'],5) #as above\n",
    "\n",
    "df_train.head()"
   ]
  },
  {
   "cell_type": "code",
   "execution_count": 14,
   "id": "solar-discharge",
   "metadata": {},
   "outputs": [
    {
     "data": {
      "text/plain": [
       "<AxesSubplot:xlabel='Age', ylabel='Survived'>"
      ]
     },
     "execution_count": 14,
     "metadata": {},
     "output_type": "execute_result"
    },
    {
     "data": {
      "image/png": "[encoded data removed]",
      "text/plain": [
       "<Figure size 432x288 with 1 Axes>"
      ]
     },
     "metadata": {
      "needs_background": "light"
     },
     "output_type": "display_data"
    }
   ],
   "source": [
    "sns.barplot(x='Age',y='Survived',data=df_train)"
   ]
  },
  {
   "cell_type": "code",
   "execution_count": 15,
   "id": "affecting-saturday",
   "metadata": {},
   "outputs": [
    {
     "data": {
      "text/plain": [
       "<AxesSubplot:xlabel='Fare', ylabel='Survived'>"
      ]
     },
     "execution_count": 15,
     "metadata": {},
     "output_type": "execute_result"
    },
    {
     "data": {
      "image/png": "[encoded data removed]",
      "text/plain": [
       "<Figure size 432x288 with 1 Axes>"
      ]
     },
     "metadata": {
      "needs_background": "light"
     },
     "output_type": "display_data"
    }
   ],
   "source": [
    "sns.barplot(x='Fare',y='Survived',data=df_train)"
   ]
  },
  {
   "cell_type": "code",
   "execution_count": 16,
   "id": "golden-drama",
   "metadata": {},
   "outputs": [
    {
     "data": {
      "text/html": [
       "<div>\n",
       "<style scoped>\n",
       "    .dataframe tbody tr th:only-of-type {\n",
       "        vertical-align: middle;\n",
       "    }\n",
       "\n",
       "    .dataframe tbody tr th {\n",
       "        vertical-align: top;\n",
       "    }\n",
       "\n",
       "    .dataframe thead th {\n",
       "        text-align: right;\n",
       "    }\n",
       "</style>\n",
       "<table border=\"1\" class=\"dataframe\">\n",
       "  <thead>\n",
       "    <tr style=\"text-align: right;\">\n",
       "      <th></th>\n",
       "      <th>PassengerId</th>\n",
       "      <th>Survived</th>\n",
       "      <th>Pclass</th>\n",
       "      <th>Sex</th>\n",
       "      <th>Age</th>\n",
       "      <th>SibSp</th>\n",
       "      <th>Parch</th>\n",
       "      <th>Fare</th>\n",
       "      <th>Embarked</th>\n",
       "    </tr>\n",
       "  </thead>\n",
       "  <tbody>\n",
       "    <tr>\n",
       "      <th>0</th>\n",
       "      <td>1</td>\n",
       "      <td>0</td>\n",
       "      <td>3</td>\n",
       "      <td>2</td>\n",
       "      <td>1</td>\n",
       "      <td>1</td>\n",
       "      <td>0</td>\n",
       "      <td>0</td>\n",
       "      <td>0</td>\n",
       "    </tr>\n",
       "    <tr>\n",
       "      <th>1</th>\n",
       "      <td>2</td>\n",
       "      <td>1</td>\n",
       "      <td>1</td>\n",
       "      <td>1</td>\n",
       "      <td>3</td>\n",
       "      <td>1</td>\n",
       "      <td>0</td>\n",
       "      <td>4</td>\n",
       "      <td>1</td>\n",
       "    </tr>\n",
       "    <tr>\n",
       "      <th>2</th>\n",
       "      <td>3</td>\n",
       "      <td>1</td>\n",
       "      <td>3</td>\n",
       "      <td>1</td>\n",
       "      <td>1</td>\n",
       "      <td>0</td>\n",
       "      <td>0</td>\n",
       "      <td>1</td>\n",
       "      <td>0</td>\n",
       "    </tr>\n",
       "    <tr>\n",
       "      <th>3</th>\n",
       "      <td>4</td>\n",
       "      <td>1</td>\n",
       "      <td>1</td>\n",
       "      <td>1</td>\n",
       "      <td>3</td>\n",
       "      <td>1</td>\n",
       "      <td>0</td>\n",
       "      <td>4</td>\n",
       "      <td>0</td>\n",
       "    </tr>\n",
       "    <tr>\n",
       "      <th>4</th>\n",
       "      <td>5</td>\n",
       "      <td>0</td>\n",
       "      <td>3</td>\n",
       "      <td>2</td>\n",
       "      <td>3</td>\n",
       "      <td>0</td>\n",
       "      <td>0</td>\n",
       "      <td>1</td>\n",
       "      <td>0</td>\n",
       "    </tr>\n",
       "  </tbody>\n",
       "</table>\n",
       "</div>"
      ],
      "text/plain": [
       "   PassengerId  Survived  Pclass  Sex  Age  SibSp  Parch  Fare  Embarked\n",
       "0            1         0       3    2    1      1      0     0         0\n",
       "1            2         1       1    1    3      1      0     4         1\n",
       "2            3         1       3    1    1      0      0     1         0\n",
       "3            4         1       1    1    3      1      0     4         0\n",
       "4            5         0       3    2    3      0      0     1         0"
      ]
     },
     "execution_count": 16,
     "metadata": {},
     "output_type": "execute_result"
    }
   ],
   "source": [
    "#Let's now use LabelEncoder(), from sklearn, to encode Age and Fare bins\n",
    "df_train['Age'] = LabelEncoder().fit_transform(df_train['Age'])\n",
    "df_train['Fare'] = LabelEncoder().fit_transform(df_train['Fare'])\n",
    "df_train.head()"
   ]
  },
  {
   "cell_type": "markdown",
   "id": "inappropriate-newsletter",
   "metadata": {},
   "source": [
    "## Feature Selection\n",
    "1. Univariate Selection\n",
    "\n",
    "Another task I want to perform, and considered one of the initial and important tasks in any machine learning project, is the Feature Selection. Here I will use the Univariate Selection.\n",
    "Statistical tests can be used to select those features that have the strongest relationship with the output variable.\n",
    "The scikit-learn library provides the SelectKBest class that can be used with a suite of different statistical tests to select a specific number of features."
   ]
  },
  {
   "cell_type": "code",
   "execution_count": 17,
   "id": "rubber-france",
   "metadata": {},
   "outputs": [
    {
     "name": "stdout",
     "output_type": "stream",
     "text": [
      "   Features      Score\n",
      "5      Fare  81.422494\n",
      "1       Sex  36.018826\n",
      "0    Pclass  30.135266\n",
      "6  Embarked  11.716463\n",
      "4     Parch  10.448598\n",
      "3     SibSp   2.391188\n",
      "2       Age   1.227381\n"
     ]
    }
   ],
   "source": [
    "from sklearn.feature_selection import SelectKBest\n",
    "from sklearn.feature_selection import chi2\n",
    "\n",
    "#Only numeric variables\n",
    "x = df_train.iloc[:,2:9]\n",
    "y = df_train.iloc[:,[1]]\n",
    "\n",
    "#apply SelectKBest class to extract top 7 best features\n",
    "bestfeatures = SelectKBest(score_func=chi2, k=7)\n",
    "fit = bestfeatures.fit(x,y)\n",
    "dfscores = pd.DataFrame(fit.scores_)\n",
    "dfcolumns = pd.DataFrame(x.columns)\n",
    "#concat two dataframes for better visualization \n",
    "featureScores = pd.concat([dfcolumns,dfscores],axis=1)\n",
    "featureScores.columns = ['Features','Score']  #naming the dataframe columns\n",
    "print(featureScores.nlargest(7,'Score'))  #print 7 best features"
   ]
  },
  {
   "cell_type": "markdown",
   "id": "patent-cambodia",
   "metadata": {},
   "source": [
    "Selected features to be used:\n",
    "* Fare\n",
    "* Sex\n",
    "* Pclass"
   ]
  },
  {
   "cell_type": "code",
   "execution_count": 24,
   "id": "sixth-greek",
   "metadata": {},
   "outputs": [],
   "source": [
    "SelectedFeatures = ['Fare','Sex','Pclass']"
   ]
  },
  {
   "cell_type": "markdown",
   "id": "patent-particular",
   "metadata": {},
   "source": [
    "# Models"
   ]
  },
  {
   "cell_type": "code",
   "execution_count": 28,
   "id": "circular-gothic",
   "metadata": {},
   "outputs": [],
   "source": [
    "from sklearn.linear_model import LogisticRegression\n",
    "from sklearn.model_selection import cross_val_score, cross_val_predict, GridSearchCV\n",
    "from sklearn import metrics\n",
    "\n",
    "target = 'Survived'\n",
    "X_train = df_train[SelectedFeatures]\n",
    "y_train = df_train[target]"
   ]
  },
  {
   "cell_type": "markdown",
   "id": "physical-baking",
   "metadata": {},
   "source": [
    "# Logistic Regression"
   ]
  },
  {
   "cell_type": "code",
   "execution_count": 20,
   "id": "dirty-density",
   "metadata": {},
   "outputs": [
    {
     "name": "stdout",
     "output_type": "stream",
     "text": [
      "{'C': 0.001, 'max_iter': 50, 'penalty': 'none'}\n"
     ]
    },
    {
     "name": "stderr",
     "output_type": "stream",
     "text": [
      "/opt/anaconda3/lib/python3.8/site-packages/sklearn/linear_model/_logistic.py:1320: UserWarning: Setting penalty='none' will ignore the C and l1_ratio parameters\n",
      "  warnings.warn(\n"
     ]
    }
   ],
   "source": [
    "import numpy as np\n",
    "\n",
    "model=LogisticRegression()\n",
    "grid_param_log={\n",
    "    'C':np.logspace(-3,3,7),\n",
    "    'penalty':['l1','l2','none'],\n",
    "    'max_iter':[50,100,150]\n",
    "}\n",
    "gd_sr_lr=GridSearchCV(estimator=model,param_grid=grid_param_log,scoring='accuracy',cv=10,n_jobs=-1)\n",
    "gd_sr_lr.fit(X_train,y_train)\n",
    "\n",
    "best_parameters = gd_sr_lr.best_params_\n",
    "print(best_parameters)\n"
   ]
  },
  {
   "cell_type": "code",
   "execution_count": 25,
   "id": "significant-leeds",
   "metadata": {},
   "outputs": [
    {
     "name": "stdout",
     "output_type": "stream",
     "text": [
      "[0.80898876 0.7752809  0.75280899 0.84269663 0.79775281 0.7752809\n",
      " 0.76404494 0.74157303 0.80898876 0.76136364]\n",
      "Average accuracy: 0.7828779366700716\n"
     ]
    },
    {
     "name": "stderr",
     "output_type": "stream",
     "text": [
      "/opt/anaconda3/lib/python3.8/site-packages/sklearn/linear_model/_logistic.py:1320: UserWarning: Setting penalty='none' will ignore the C and l1_ratio parameters\n",
      "  warnings.warn(\n",
      "/opt/anaconda3/lib/python3.8/site-packages/sklearn/linear_model/_logistic.py:1320: UserWarning: Setting penalty='none' will ignore the C and l1_ratio parameters\n",
      "  warnings.warn(\n",
      "/opt/anaconda3/lib/python3.8/site-packages/sklearn/linear_model/_logistic.py:1320: UserWarning: Setting penalty='none' will ignore the C and l1_ratio parameters\n",
      "  warnings.warn(\n",
      "/opt/anaconda3/lib/python3.8/site-packages/sklearn/linear_model/_logistic.py:1320: UserWarning: Setting penalty='none' will ignore the C and l1_ratio parameters\n",
      "  warnings.warn(\n",
      "/opt/anaconda3/lib/python3.8/site-packages/sklearn/linear_model/_logistic.py:1320: UserWarning: Setting penalty='none' will ignore the C and l1_ratio parameters\n",
      "  warnings.warn(\n",
      "/opt/anaconda3/lib/python3.8/site-packages/sklearn/linear_model/_logistic.py:1320: UserWarning: Setting penalty='none' will ignore the C and l1_ratio parameters\n",
      "  warnings.warn(\n",
      "/opt/anaconda3/lib/python3.8/site-packages/sklearn/linear_model/_logistic.py:1320: UserWarning: Setting penalty='none' will ignore the C and l1_ratio parameters\n",
      "  warnings.warn(\n",
      "/opt/anaconda3/lib/python3.8/site-packages/sklearn/linear_model/_logistic.py:1320: UserWarning: Setting penalty='none' will ignore the C and l1_ratio parameters\n",
      "  warnings.warn(\n",
      "/opt/anaconda3/lib/python3.8/site-packages/sklearn/linear_model/_logistic.py:1320: UserWarning: Setting penalty='none' will ignore the C and l1_ratio parameters\n",
      "  warnings.warn(\n",
      "/opt/anaconda3/lib/python3.8/site-packages/sklearn/linear_model/_logistic.py:1320: UserWarning: Setting penalty='none' will ignore the C and l1_ratio parameters\n",
      "  warnings.warn(\n"
     ]
    }
   ],
   "source": [
    "model_lr = LogisticRegression(C=0.001,max_iter=50,penalty='none')\n",
    "accuracy = cross_val_score(model_lr, X_train, y_train, cv=10,scoring='accuracy')\n",
    "print (accuracy)\n",
    "print('Average accuracy: {}'.format(accuracy.mean())) "
   ]
  },
  {
   "cell_type": "markdown",
   "id": "frozen-resistance",
   "metadata": {},
   "source": [
    "# Random Forest"
   ]
  },
  {
   "cell_type": "code",
   "execution_count": 22,
   "id": "another-yorkshire",
   "metadata": {},
   "outputs": [
    {
     "name": "stdout",
     "output_type": "stream",
     "text": [
      "{'bootstrap': True, 'criterion': 'gini', 'min_samples_leaf': 5, 'min_samples_split': 10, 'n_estimators': 100}\n"
     ]
    }
   ],
   "source": [
    "#https://scikit-learn.org/stable/modules/generated/sklearn.model_selection.GridSearchCV.html\n",
    "\n",
    "from sklearn.ensemble import RandomForestClassifier\n",
    "\n",
    "model = RandomForestClassifier()\n",
    "grid_param = {\n",
    " 'n_estimators': [100, 200, 300],\n",
    " 'criterion':['gini', 'entropy'],\n",
    " 'min_samples_split': [2, 10, 20],\n",
    " 'min_samples_leaf': [1, 5,10],\n",
    " 'bootstrap': [True, False]\n",
    "}\n",
    "\n",
    "gd_sr = GridSearchCV(estimator=model,\n",
    " param_grid=grid_param,\n",
    " scoring='accuracy',\n",
    " cv=10,\n",
    " n_jobs=-1, #-1 means using all processors\n",
    " refit = True)\n",
    "\n",
    "gd_sr.fit(X_train, y_train)\n",
    "\n",
    "best_parameters = gd_sr.best_params_\n",
    "print(best_parameters)"
   ]
  },
  {
   "cell_type": "code",
   "execution_count": 29,
   "id": "adolescent-volunteer",
   "metadata": {},
   "outputs": [
    {
     "name": "stdout",
     "output_type": "stream",
     "text": [
      "[0.7752809  0.82022472 0.7752809  0.85393258 0.85393258 0.80898876\n",
      " 0.80898876 0.79775281 0.86516854 0.79545455]\n",
      "Average accuracy: 0.8155005107252297\n"
     ]
    }
   ],
   "source": [
    "rfc=RandomForestClassifier(n_estimators=100, bootstrap=True,criterion='gini',min_samples_leaf=1,min_samples_split=2)\n",
    "\n",
    "accuracyRFC = cross_val_score(rfc, X_train, y_train, cv=10,scoring='accuracy')\n",
    "print (accuracyRFC)\n",
    "print('Average accuracy: {}'.format(accuracyRFC.mean()))"
   ]
  },
  {
   "cell_type": "markdown",
   "id": "former-skill",
   "metadata": {},
   "source": [
    "## Tuning Hyperparameters for Random Forest"
   ]
  },
  {
   "cell_type": "code",
   "execution_count": 25,
   "id": "tropical-bench",
   "metadata": {},
   "outputs": [
    {
     "name": "stdout",
     "output_type": "stream",
     "text": [
      "Fitting 10 folds for each of 100 candidates, totalling 1000 fits\n"
     ]
    },
    {
     "name": "stderr",
     "output_type": "stream",
     "text": [
      "[Parallel(n_jobs=-1)]: Using backend LokyBackend with 8 concurrent workers.\n",
      "[Parallel(n_jobs=-1)]: Done  25 tasks      | elapsed:   10.9s\n",
      "[Parallel(n_jobs=-1)]: Done 146 tasks      | elapsed:   37.2s\n",
      "[Parallel(n_jobs=-1)]: Done 349 tasks      | elapsed:  1.4min\n",
      "[Parallel(n_jobs=-1)]: Done 632 tasks      | elapsed:  2.6min\n",
      "[Parallel(n_jobs=-1)]: Done 1000 out of 1000 | elapsed:  4.1min finished\n"
     ]
    },
    {
     "name": "stdout",
     "output_type": "stream",
     "text": [
      "{'n_estimators': 2000, 'max_features': 'auto', 'max_depth': 260}\n"
     ]
    }
   ],
   "source": [
    "#Must-read references:\n",
    "#https://medium.com/@hjhuney/implementing-a-random-forest-classification-model-in-python-583891c99652\n",
    "#https://towardsdatascience.com/hyperparameter-tuning-the-random-forest-in-python-using-scikit-learn-28d2aa77dd74\n",
    "#https://scikit-learn.org/stable/modules/generated/sklearn.model_selection.RandomizedSearchCV.html\n",
    "\n",
    "from sklearn.model_selection import RandomizedSearchCV\n",
    "\n",
    "n_estimators = [int(x) for x in np.linspace(start = 100, stop = 2000, num = 5)] \n",
    "#linspace returns evenly numbers in the interval. In this case, 5 in 5\n",
    "#https://numpy.org/doc/stable/reference/generated/numpy.linspace.html\n",
    "\n",
    "max_features = ['auto', 'sqrt']\n",
    "\n",
    "max_depth = [int(x) for x in np.linspace(100, 500, num = 11)]\n",
    "max_depth.append(None)\n",
    "\n",
    "random_grid = {\n",
    " 'n_estimators': n_estimators,\n",
    " 'max_features': max_features,\n",
    " 'max_depth': max_depth\n",
    " }\n",
    "# Random search of parameters\n",
    "rfc_random = RandomizedSearchCV(estimator = rfc, param_distributions = random_grid, n_iter = 100, cv = 10, verbose=2, random_state=42, n_jobs = -1)\n",
    "# Fit the model\n",
    "rfc_random.fit(X_train, y_train)\n",
    "# print results\n",
    "print(rfc_random.best_params_)"
   ]
  },
  {
   "cell_type": "code",
   "execution_count": 39,
   "id": "supported-warrior",
   "metadata": {},
   "outputs": [
    {
     "name": "stdout",
     "output_type": "stream",
     "text": [
      "[0.7752809  0.82022472 0.7752809  0.85393258 0.85393258 0.80898876\n",
      " 0.80898876 0.79775281 0.86516854 0.79545455]\n",
      "Average accuracy: 0.8155005107252297\n"
     ]
    }
   ],
   "source": [
    "rfc_model_hp = RandomForestClassifier(n_estimators= 2000, max_features= 'auto', max_depth= 260)\n",
    "\n",
    "accuracyRFC_Hp = cross_val_score(rfc_model_hp, X_train, y_train, cv=10,scoring='accuracy')\n",
    "print (accuracyRFC_Hp)\n",
    "print('Average accuracy: {}'.format(accuracyRFC_Hp.mean()))"
   ]
  },
  {
   "cell_type": "markdown",
   "id": "departmental-animal",
   "metadata": {},
   "source": [
    "# SVM (Support Vector Machine)"
   ]
  },
  {
   "cell_type": "code",
   "execution_count": 29,
   "id": "moral-characteristic",
   "metadata": {},
   "outputs": [
    {
     "name": "stdout",
     "output_type": "stream",
     "text": [
      "{'C': 2.0}\n"
     ]
    }
   ],
   "source": [
    "from sklearn.svm import SVC\n",
    "\n",
    "model_svm = SVC()\n",
    "grid_param_svc = {\n",
    "    'C':[0.5,1.0,1.5,2.0,2,5,3.0], #Cost\n",
    "}\n",
    "\n",
    "gd_sr_svm = GridSearchCV(estimator=model_svm,\n",
    " param_grid=grid_param_svc,\n",
    " scoring='accuracy',\n",
    " cv=10,\n",
    " n_jobs=-1) #-1 means using all processors\n",
    "\n",
    "gd_sr_svm.fit(X_train, y_train)\n",
    "\n",
    "best_parameters_svm = gd_sr_svm.best_params_\n",
    "print(best_parameters_svm)\n"
   ]
  },
  {
   "cell_type": "code",
   "execution_count": 35,
   "id": "instant-canberra",
   "metadata": {},
   "outputs": [
    {
     "name": "stdout",
     "output_type": "stream",
     "text": [
      "[0.80898876 0.79775281 0.76404494 0.84269663 0.79775281 0.7752809\n",
      " 0.76404494 0.74157303 0.80898876 0.76136364]\n",
      "Average accuracy: 0.7862487231869254\n"
     ]
    }
   ],
   "source": [
    "svm=SVC(C=2.0, kernel='linear')\n",
    "\n",
    "accuracySVC = cross_val_score(svm, X_train, y_train, cv=10,scoring='accuracy')\n",
    "print (accuracySVC)\n",
    "print('Average accuracy: {}'.format(accuracySVC.mean()))"
   ]
  },
  {
   "cell_type": "markdown",
   "id": "addressed-hollywood",
   "metadata": {},
   "source": [
    "Through the usage of the accuracy metric, it is possible to see that the Random Forest Classifier model had the best result."
   ]
  },
  {
   "cell_type": "markdown",
   "id": "unusual-spencer",
   "metadata": {},
   "source": [
    "# Preparing the Test Data"
   ]
  },
  {
   "cell_type": "code",
   "execution_count": 30,
   "id": "compact-fiber",
   "metadata": {},
   "outputs": [
    {
     "data": {
      "text/plain": [
       "PassengerId      0\n",
       "Pclass           0\n",
       "Name             0\n",
       "Sex              0\n",
       "Age             86\n",
       "SibSp            0\n",
       "Parch            0\n",
       "Ticket           0\n",
       "Fare             1\n",
       "Cabin          327\n",
       "Embarked         0\n",
       "dtype: int64"
      ]
     },
     "execution_count": 30,
     "metadata": {},
     "output_type": "execute_result"
    }
   ],
   "source": [
    "#Missing values training dataset\n",
    "df_test.isna().sum()"
   ]
  },
  {
   "cell_type": "code",
   "execution_count": 31,
   "id": "solved-anger",
   "metadata": {},
   "outputs": [
    {
     "data": {
      "text/plain": [
       "PassengerId    0.0\n",
       "Survived       0.0\n",
       "Pclass         0.0\n",
       "Sex            0.0\n",
       "Age            0.0\n",
       "SibSp          0.0\n",
       "Parch          0.0\n",
       "Fare           0.0\n",
       "Embarked       0.0\n",
       "dtype: float64"
      ]
     },
     "execution_count": 31,
     "metadata": {},
     "output_type": "execute_result"
    }
   ],
   "source": [
    "del df_test['Cabin']\n",
    "del df_test['Ticket']\n",
    "del df_test['Name']\n",
    "\n",
    "df_test['Age'] = df_test['Age'].interpolate(method='linear',limit_direction='forward')\n",
    "\n",
    "#Now we check if there are still missing values\n",
    "df_train.isna().sum()/len(df_train)*100"
   ]
  },
  {
   "cell_type": "code",
   "execution_count": 32,
   "id": "swiss-fireplace",
   "metadata": {},
   "outputs": [
    {
     "name": "stdout",
     "output_type": "stream",
     "text": [
      "Skew: 0.452445\n"
     ]
    },
    {
     "data": {
      "text/plain": [
       "count    418.000000\n",
       "mean      30.045251\n",
       "std       13.502708\n",
       "min        0.170000\n",
       "25%       21.500000\n",
       "50%       27.700000\n",
       "75%       38.875000\n",
       "max       76.000000\n",
       "Name: Age, dtype: float64"
      ]
     },
     "execution_count": 32,
     "metadata": {},
     "output_type": "execute_result"
    }
   ],
   "source": [
    "#Identifying Outliers with Skewness - Variable Age\n",
    "print('Skew: %3f' % df_test['Age'].skew())\n",
    "df_test['Age'].describe() "
   ]
  },
  {
   "cell_type": "code",
   "execution_count": 33,
   "id": "statewide-backup",
   "metadata": {},
   "outputs": [
    {
     "name": "stdout",
     "output_type": "stream",
     "text": [
      "Skew: 3.687213\n",
      "count    417.000000\n",
      "mean      35.627188\n",
      "std       55.907576\n",
      "min        0.000000\n",
      "25%        7.895800\n",
      "50%       14.454200\n",
      "75%       31.500000\n",
      "max      512.329200\n",
      "Name: Fare, dtype: float64\n"
     ]
    }
   ],
   "source": [
    "print('Skew: %3f' % df_test['Fare'].skew())\n",
    "print(df_test['Fare'].describe())"
   ]
  },
  {
   "cell_type": "code",
   "execution_count": 34,
   "id": "analyzed-temple",
   "metadata": {},
   "outputs": [
    {
     "name": "stdout",
     "output_type": "stream",
     "text": [
      "14.4542\n",
      "Values after outlier treatment: \n"
     ]
    },
    {
     "data": {
      "text/plain": [
       "count    417.000000\n",
       "mean      34.433244\n",
       "std       50.784291\n",
       "min        0.000000\n",
       "25%        7.895800\n",
       "50%       14.454200\n",
       "75%       31.387500\n",
       "max      263.000000\n",
       "Name: Fare, dtype: float64"
      ]
     },
     "execution_count": 34,
     "metadata": {},
     "output_type": "execute_result"
    }
   ],
   "source": [
    "#Replacing Outliers with Median Values\n",
    "MedianFare = df_test['Fare'].quantile(0.50)\n",
    "print(MedianFare) #Median value\n",
    "#Output: 14,45\n",
    "df_test.loc[df_test.Fare>512, 'Fare'] = MedianFare\n",
    "\n",
    "print('Values after outlier treatment: ')\n",
    "df_test['Fare'].describe()"
   ]
  },
  {
   "cell_type": "code",
   "execution_count": 35,
   "id": "hired-witch",
   "metadata": {},
   "outputs": [],
   "source": [
    "df_test['Sex'] = df_test['Sex'].map({'female':1,'male':2}).astype('int')\n",
    "df_test['Embarked'] = df_test['Embarked'].map({'S':0,'C':1,'Q':2}).astype('int')\n",
    "\n",
    "df_test['Age'] = pd.qcut(df_test['Age'],5)#I think 5 bins is a good number\n",
    "df_test['Fare'] = pd.qcut(df_test['Fare'],5) #as above"
   ]
  },
  {
   "cell_type": "code",
   "execution_count": 36,
   "id": "directed-model",
   "metadata": {},
   "outputs": [],
   "source": [
    "df_test['Age'] = LabelEncoder().fit_transform(df_test['Age'])\n",
    "\n",
    "df_test['Fare'] = df_test['Fare'].apply(lambda col: LabelEncoder().fit_transform(col.astype(str)))\n",
    "df_test['Fare'] = LabelEncoder().fit_transform(df_test['Fare'])"
   ]
  },
  {
   "cell_type": "code",
   "execution_count": 37,
   "id": "fifty-principle",
   "metadata": {},
   "outputs": [
    {
     "name": "stdout",
     "output_type": "stream",
     "text": [
      "int64\n"
     ]
    },
    {
     "data": {
      "text/html": [
       "<div>\n",
       "<style scoped>\n",
       "    .dataframe tbody tr th:only-of-type {\n",
       "        vertical-align: middle;\n",
       "    }\n",
       "\n",
       "    .dataframe tbody tr th {\n",
       "        vertical-align: top;\n",
       "    }\n",
       "\n",
       "    .dataframe thead th {\n",
       "        text-align: right;\n",
       "    }\n",
       "</style>\n",
       "<table border=\"1\" class=\"dataframe\">\n",
       "  <thead>\n",
       "    <tr style=\"text-align: right;\">\n",
       "      <th></th>\n",
       "      <th>PassengerId</th>\n",
       "      <th>Pclass</th>\n",
       "      <th>Sex</th>\n",
       "      <th>Age</th>\n",
       "      <th>SibSp</th>\n",
       "      <th>Parch</th>\n",
       "      <th>Fare</th>\n",
       "      <th>Embarked</th>\n",
       "    </tr>\n",
       "  </thead>\n",
       "  <tbody>\n",
       "    <tr>\n",
       "      <th>0</th>\n",
       "      <td>892</td>\n",
       "      <td>3</td>\n",
       "      <td>2</td>\n",
       "      <td>3</td>\n",
       "      <td>0</td>\n",
       "      <td>0</td>\n",
       "      <td>4</td>\n",
       "      <td>2</td>\n",
       "    </tr>\n",
       "    <tr>\n",
       "      <th>1</th>\n",
       "      <td>893</td>\n",
       "      <td>3</td>\n",
       "      <td>1</td>\n",
       "      <td>4</td>\n",
       "      <td>1</td>\n",
       "      <td>0</td>\n",
       "      <td>0</td>\n",
       "      <td>0</td>\n",
       "    </tr>\n",
       "    <tr>\n",
       "      <th>2</th>\n",
       "      <td>894</td>\n",
       "      <td>2</td>\n",
       "      <td>2</td>\n",
       "      <td>4</td>\n",
       "      <td>0</td>\n",
       "      <td>0</td>\n",
       "      <td>4</td>\n",
       "      <td>2</td>\n",
       "    </tr>\n",
       "    <tr>\n",
       "      <th>3</th>\n",
       "      <td>895</td>\n",
       "      <td>3</td>\n",
       "      <td>2</td>\n",
       "      <td>2</td>\n",
       "      <td>0</td>\n",
       "      <td>0</td>\n",
       "      <td>4</td>\n",
       "      <td>0</td>\n",
       "    </tr>\n",
       "    <tr>\n",
       "      <th>4</th>\n",
       "      <td>896</td>\n",
       "      <td>3</td>\n",
       "      <td>1</td>\n",
       "      <td>1</td>\n",
       "      <td>1</td>\n",
       "      <td>1</td>\n",
       "      <td>1</td>\n",
       "      <td>0</td>\n",
       "    </tr>\n",
       "    <tr>\n",
       "      <th>5</th>\n",
       "      <td>897</td>\n",
       "      <td>3</td>\n",
       "      <td>2</td>\n",
       "      <td>0</td>\n",
       "      <td>0</td>\n",
       "      <td>0</td>\n",
       "      <td>4</td>\n",
       "      <td>0</td>\n",
       "    </tr>\n",
       "    <tr>\n",
       "      <th>6</th>\n",
       "      <td>898</td>\n",
       "      <td>3</td>\n",
       "      <td>1</td>\n",
       "      <td>2</td>\n",
       "      <td>0</td>\n",
       "      <td>0</td>\n",
       "      <td>0</td>\n",
       "      <td>2</td>\n",
       "    </tr>\n",
       "    <tr>\n",
       "      <th>7</th>\n",
       "      <td>899</td>\n",
       "      <td>2</td>\n",
       "      <td>2</td>\n",
       "      <td>2</td>\n",
       "      <td>1</td>\n",
       "      <td>1</td>\n",
       "      <td>2</td>\n",
       "      <td>0</td>\n",
       "    </tr>\n",
       "    <tr>\n",
       "      <th>8</th>\n",
       "      <td>900</td>\n",
       "      <td>3</td>\n",
       "      <td>1</td>\n",
       "      <td>0</td>\n",
       "      <td>0</td>\n",
       "      <td>0</td>\n",
       "      <td>0</td>\n",
       "      <td>1</td>\n",
       "    </tr>\n",
       "    <tr>\n",
       "      <th>9</th>\n",
       "      <td>901</td>\n",
       "      <td>3</td>\n",
       "      <td>2</td>\n",
       "      <td>1</td>\n",
       "      <td>2</td>\n",
       "      <td>0</td>\n",
       "      <td>2</td>\n",
       "      <td>0</td>\n",
       "    </tr>\n",
       "  </tbody>\n",
       "</table>\n",
       "</div>"
      ],
      "text/plain": [
       "   PassengerId  Pclass  Sex  Age  SibSp  Parch  Fare  Embarked\n",
       "0          892       3    2    3      0      0     4         2\n",
       "1          893       3    1    4      1      0     0         0\n",
       "2          894       2    2    4      0      0     4         2\n",
       "3          895       3    2    2      0      0     4         0\n",
       "4          896       3    1    1      1      1     1         0\n",
       "5          897       3    2    0      0      0     4         0\n",
       "6          898       3    1    2      0      0     0         2\n",
       "7          899       2    2    2      1      1     2         0\n",
       "8          900       3    1    0      0      0     0         1\n",
       "9          901       3    2    1      2      0     2         0"
      ]
     },
     "execution_count": 37,
     "metadata": {},
     "output_type": "execute_result"
    }
   ],
   "source": [
    "print(df_test['Fare'].dtypes)\n",
    "df_test.head(10)"
   ]
  },
  {
   "cell_type": "code",
   "execution_count": 40,
   "id": "victorian-herald",
   "metadata": {},
   "outputs": [],
   "source": [
    "#Predict Survived\n",
    "X_test = df_test[SelectedFeatures]\n",
    "\n",
    "#Fit the model\n",
    "rfc_model_hp.fit(X_train,y_train)\n",
    "#Predicting Survived\n",
    "y_test = rfc_model_hp.predict(X_test)\n",
    "\n",
    "#Save and download output file\n",
    "output_file = pd.DataFrame({\n",
    "    'PassengerId':df_test['PassengerId'],\n",
    "    'Survived':y_test.astype(int)\n",
    "})\n",
    "\n",
    "output_file.to_csv('output_file.csv',index=False)"
   ]
  },
  {
   "cell_type": "markdown",
   "id": "uniform-funds",
   "metadata": {},
   "source": [
    "*Wrapping up*, that was a really good exercise, especially to get back in touch with all the concepts.\n",
    "The score at Kaggle was not the best, I scored 0.75598, however the experience was definitely amazing!"
   ]
  },
  {
   "cell_type": "markdown",
   "id": "divided-israel",
   "metadata": {},
   "source": [
    "# Creating Web App using Gradio\n",
    "\n",
    "**References**\n",
    "* https://towardsdatascience.com/a-mathematical-explanation-of-support-vector-machines-e433ffe04362\n",
    "* https://www.gradio.app/"
   ]
  },
  {
   "cell_type": "code",
   "execution_count": 48,
   "id": "social-ecology",
   "metadata": {},
   "outputs": [
    {
     "name": "stdout",
     "output_type": "stream",
     "text": [
      "Running locally at: http://127.0.0.1:7867/\n",
      "To create a public link, set `share=True` in `launch()`.\n",
      "Interface loading below...\n"
     ]
    },
    {
     "data": {
      "text/html": [
       "\n",
       "        <iframe\n",
       "            width=\"1000\"\n",
       "            height=\"500\"\n",
       "            src=\"http://127.0.0.1:7867/\"\n",
       "            frameborder=\"0\"\n",
       "            allowfullscreen\n",
       "        ></iframe>\n",
       "        "
      ],
      "text/plain": [
       "<IPython.lib.display.IFrame at 0x7fb455151a90>"
      ]
     },
     "metadata": {},
     "output_type": "display_data"
    },
    {
     "data": {
      "text/plain": [
       "(<Flask 'gradio.networking'>, 'http://127.0.0.1:7867/', None)"
      ]
     },
     "execution_count": 48,
     "metadata": {},
     "output_type": "execute_result"
    }
   ],
   "source": [
    "import gradio as gd\n",
    "\n",
    "rfc.fit(X_train,y_train)\n",
    "\n",
    "#Creating a prediction function\n",
    "def predict_survived(Fare,Sex,Pclass):\n",
    "    df = pd.DataFrame.from_dict({'Fare':[Fare+1],     \n",
    "                                  'Sex': [Sex+1],\n",
    "                                 'Pclass': [Pclass+1]})\n",
    "    predict = rfc.predict_proba(df)[0]\n",
    "    result= {'Survival': predict[0],'No Survival':predict[1]}\n",
    "    return result\n",
    "\n",
    "#Prepare the fields in screen\n",
    "#Fare = gd.inputs.Slider(minimum=1, maximum=5, default=1, step=1, label=\"Fare\")\n",
    "Fare = gd.inputs.Radio(choices=['0 - 7.8','7.8 - 10.5','10.5 - 21','21 - 39.6','39.6 - 263'], \n",
    "                       type='index',\n",
    "                       label=\"Passenger Fare($)\")\n",
    "#Sex = gd.inputs.Slider(minimum=1, maximum=2, default=1, step=1, label=\"Sex\")\n",
    "Sex = gd.inputs.Radio(choices=['Female','Male'], type='index', label=\"Sex\")\n",
    "#Pclass = gd.inputs.Slider(minimum=1, maximum=3, default=1, step=1, label=\"Class\")\n",
    "Pclass = gd.inputs.Dropdown(choices=['First Class','Second Class','Third Class'], type='index', label=\"Passenger Class\")\n",
    "\n",
    "#declare the interface\n",
    "interface = gd.Interface(fn=predict_survived, \n",
    "             inputs=[Fare,Sex,Pclass], \n",
    "             outputs=\"label\",interpretation=\"default\",\n",
    "             live=True,\n",
    "             title='Titanic - Machine Learning from Disaster',\n",
    "             examples=[['10.5 - 21','Female','Second Class'],['39.6 - 263','Male','First Class']],\n",
    "             verbose=False)\n",
    "\n",
    "#launch the interface\n",
    "interface.launch()"
   ]
  },
  {
   "cell_type": "code",
   "execution_count": null,
   "id": "common-appendix",
   "metadata": {},
   "outputs": [],
   "source": []
  }
 ],
 "metadata": {
  "kernelspec": {
   "display_name": "Python 3",
   "language": "python",
   "name": "python3"
  },
  "language_info": {
   "codemirror_mode": {
    "name": "ipython",
    "version": 3
   },
   "file_extension": ".py",
   "mimetype": "text/x-python",
   "name": "python",
   "nbconvert_exporter": "python",
   "pygments_lexer": "ipython3",
   "version": "3.8.5"
  }
 },
 "nbformat": 4,
 "nbformat_minor": 5
}
