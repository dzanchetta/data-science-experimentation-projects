{
  "nbformat": 4,
  "nbformat_minor": 0,
  "metadata": {
    "kernelspec": {
      "display_name": "Python 3",
      "language": "python",
      "name": "python3"
    },
    "language_info": {
      "codemirror_mode": {
        "name": "ipython",
        "version": 3
      },
      "file_extension": ".py",
      "mimetype": "text/x-python",
      "name": "python",
      "nbconvert_exporter": "python",
      "pygments_lexer": "ipython3",
      "version": "3.9.1"
    },
    "colab": {
      "name": "AB_Testing.ipynb",
      "provenance": []
    }
  },
  "cells": [
    {
      "cell_type": "markdown",
      "metadata": {
        "id": "ypg3aVDGeKuI"
      },
      "source": [
        "## Import Libraries and Data"
      ]
    },
    {
      "cell_type": "code",
      "metadata": {
        "id": "aBbOFcG5eKuT"
      },
      "source": [
        "import numpy as np\n",
        "#https://www.w3schools.com/python/numpy_intro.asp\n",
        "import pandas as pd\n",
        "import scipy\n",
        "import matplotlib.pyplot as plt"
      ],
      "execution_count": 1,
      "outputs": []
    },
    {
      "cell_type": "code",
      "metadata": {
        "colab": {
          "resources": {
            "http://localhost:8080/nbextensions/google.colab/files.js": {
              "data": "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",
              "ok": true,
              "headers": [
                [
                  "content-type",
                  "application/javascript"
                ]
              ],
              "status": 200,
              "status_text": ""
            }
          },
          "base_uri": "https://localhost:8080/",
          "height": 72
        },
        "id": "GtHwKLNfeKuT",
        "outputId": "cc4db658-27d4-4e21-cb2c-3cdbe49166d9"
      },
      "source": [
        "from google.colab import files as file\n",
        "ab_data_file = file.upload()"
      ],
      "execution_count": 2,
      "outputs": [
        {
          "output_type": "display_data",
          "data": {
            "text/html": [
              "\n",
              "     <input type=\"file\" id=\"files-b69a1abd-387f-43d4-9be0-05d751b3838c\" name=\"files[]\" multiple disabled\n",
              "        style=\"border:none\" />\n",
              "     <output id=\"result-b69a1abd-387f-43d4-9be0-05d751b3838c\">\n",
              "      Upload widget is only available when the cell has been executed in the\n",
              "      current browser session. Please rerun this cell to enable.\n",
              "      </output>\n",
              "      <script src=\"/nbextensions/google.colab/files.js\"></script> "
            ],
            "text/plain": [
              "<IPython.core.display.HTML object>"
            ]
          },
          "metadata": {
            "tags": []
          }
        },
        {
          "output_type": "stream",
          "text": [
            "Saving ab_data.csv to ab_data.csv\n"
          ],
          "name": "stdout"
        }
      ]
    },
    {
      "cell_type": "markdown",
      "metadata": {
        "id": "Ro-RitJsjd7X"
      },
      "source": [
        "This dataset contains the result of an A/B test where two groups, the control group and the treatment group, were exposed to an old webpage and a new webpage respectively."
      ]
    },
    {
      "cell_type": "code",
      "metadata": {
        "colab": {
          "base_uri": "https://localhost:8080/",
          "height": 359
        },
        "id": "kQnPD6svfyI0",
        "outputId": "3f922f1f-619f-4d75-e647-5bf9769d047b"
      },
      "source": [
        "df = pd.read_csv('ab_data.csv',header=0,sep=',')\n",
        "df.head(10)"
      ],
      "execution_count": 3,
      "outputs": [
        {
          "output_type": "execute_result",
          "data": {
            "text/html": [
              "<div>\n",
              "<style scoped>\n",
              "    .dataframe tbody tr th:only-of-type {\n",
              "        vertical-align: middle;\n",
              "    }\n",
              "\n",
              "    .dataframe tbody tr th {\n",
              "        vertical-align: top;\n",
              "    }\n",
              "\n",
              "    .dataframe thead th {\n",
              "        text-align: right;\n",
              "    }\n",
              "</style>\n",
              "<table border=\"1\" class=\"dataframe\">\n",
              "  <thead>\n",
              "    <tr style=\"text-align: right;\">\n",
              "      <th></th>\n",
              "      <th>user_id</th>\n",
              "      <th>timestamp</th>\n",
              "      <th>group</th>\n",
              "      <th>landing_page</th>\n",
              "      <th>converted</th>\n",
              "    </tr>\n",
              "  </thead>\n",
              "  <tbody>\n",
              "    <tr>\n",
              "      <th>0</th>\n",
              "      <td>851104</td>\n",
              "      <td>2017-01-21 22:11:48.556739</td>\n",
              "      <td>control</td>\n",
              "      <td>old_page</td>\n",
              "      <td>0</td>\n",
              "    </tr>\n",
              "    <tr>\n",
              "      <th>1</th>\n",
              "      <td>804228</td>\n",
              "      <td>2017-01-12 08:01:45.159739</td>\n",
              "      <td>control</td>\n",
              "      <td>old_page</td>\n",
              "      <td>0</td>\n",
              "    </tr>\n",
              "    <tr>\n",
              "      <th>2</th>\n",
              "      <td>661590</td>\n",
              "      <td>2017-01-11 16:55:06.154213</td>\n",
              "      <td>treatment</td>\n",
              "      <td>new_page</td>\n",
              "      <td>0</td>\n",
              "    </tr>\n",
              "    <tr>\n",
              "      <th>3</th>\n",
              "      <td>853541</td>\n",
              "      <td>2017-01-08 18:28:03.143765</td>\n",
              "      <td>treatment</td>\n",
              "      <td>new_page</td>\n",
              "      <td>0</td>\n",
              "    </tr>\n",
              "    <tr>\n",
              "      <th>4</th>\n",
              "      <td>864975</td>\n",
              "      <td>2017-01-21 01:52:26.210827</td>\n",
              "      <td>control</td>\n",
              "      <td>old_page</td>\n",
              "      <td>1</td>\n",
              "    </tr>\n",
              "    <tr>\n",
              "      <th>5</th>\n",
              "      <td>936923</td>\n",
              "      <td>2017-01-10 15:20:49.083499</td>\n",
              "      <td>control</td>\n",
              "      <td>old_page</td>\n",
              "      <td>0</td>\n",
              "    </tr>\n",
              "    <tr>\n",
              "      <th>6</th>\n",
              "      <td>679687</td>\n",
              "      <td>2017-01-19 03:26:46.940749</td>\n",
              "      <td>treatment</td>\n",
              "      <td>new_page</td>\n",
              "      <td>1</td>\n",
              "    </tr>\n",
              "    <tr>\n",
              "      <th>7</th>\n",
              "      <td>719014</td>\n",
              "      <td>2017-01-17 01:48:29.539573</td>\n",
              "      <td>control</td>\n",
              "      <td>old_page</td>\n",
              "      <td>0</td>\n",
              "    </tr>\n",
              "    <tr>\n",
              "      <th>8</th>\n",
              "      <td>817355</td>\n",
              "      <td>2017-01-04 17:58:08.979471</td>\n",
              "      <td>treatment</td>\n",
              "      <td>new_page</td>\n",
              "      <td>1</td>\n",
              "    </tr>\n",
              "    <tr>\n",
              "      <th>9</th>\n",
              "      <td>839785</td>\n",
              "      <td>2017-01-15 18:11:06.610965</td>\n",
              "      <td>treatment</td>\n",
              "      <td>new_page</td>\n",
              "      <td>1</td>\n",
              "    </tr>\n",
              "  </tbody>\n",
              "</table>\n",
              "</div>"
            ],
            "text/plain": [
              "   user_id                   timestamp      group landing_page  converted\n",
              "0   851104  2017-01-21 22:11:48.556739    control     old_page          0\n",
              "1   804228  2017-01-12 08:01:45.159739    control     old_page          0\n",
              "2   661590  2017-01-11 16:55:06.154213  treatment     new_page          0\n",
              "3   853541  2017-01-08 18:28:03.143765  treatment     new_page          0\n",
              "4   864975  2017-01-21 01:52:26.210827    control     old_page          1\n",
              "5   936923  2017-01-10 15:20:49.083499    control     old_page          0\n",
              "6   679687  2017-01-19 03:26:46.940749  treatment     new_page          1\n",
              "7   719014  2017-01-17 01:48:29.539573    control     old_page          0\n",
              "8   817355  2017-01-04 17:58:08.979471  treatment     new_page          1\n",
              "9   839785  2017-01-15 18:11:06.610965  treatment     new_page          1"
            ]
          },
          "metadata": {
            "tags": []
          },
          "execution_count": 3
        }
      ]
    },
    {
      "cell_type": "markdown",
      "metadata": {
        "id": "6l5jrh5fh_7L"
      },
      "source": [
        "## Data Wrangling"
      ]
    },
    {
      "cell_type": "code",
      "metadata": {
        "colab": {
          "base_uri": "https://localhost:8080/",
          "height": 204
        },
        "id": "d11u7XZhh3il",
        "outputId": "5066bb4b-24cb-49e5-a859-ff1f27071dfe"
      },
      "source": [
        "df.groupby(['group','landing_page']).count()"
      ],
      "execution_count": 4,
      "outputs": [
        {
          "output_type": "execute_result",
          "data": {
            "text/html": [
              "<div>\n",
              "<style scoped>\n",
              "    .dataframe tbody tr th:only-of-type {\n",
              "        vertical-align: middle;\n",
              "    }\n",
              "\n",
              "    .dataframe tbody tr th {\n",
              "        vertical-align: top;\n",
              "    }\n",
              "\n",
              "    .dataframe thead th {\n",
              "        text-align: right;\n",
              "    }\n",
              "</style>\n",
              "<table border=\"1\" class=\"dataframe\">\n",
              "  <thead>\n",
              "    <tr style=\"text-align: right;\">\n",
              "      <th></th>\n",
              "      <th></th>\n",
              "      <th>user_id</th>\n",
              "      <th>timestamp</th>\n",
              "      <th>converted</th>\n",
              "    </tr>\n",
              "    <tr>\n",
              "      <th>group</th>\n",
              "      <th>landing_page</th>\n",
              "      <th></th>\n",
              "      <th></th>\n",
              "      <th></th>\n",
              "    </tr>\n",
              "  </thead>\n",
              "  <tbody>\n",
              "    <tr>\n",
              "      <th rowspan=\"2\" valign=\"top\">control</th>\n",
              "      <th>new_page</th>\n",
              "      <td>1928</td>\n",
              "      <td>1928</td>\n",
              "      <td>1928</td>\n",
              "    </tr>\n",
              "    <tr>\n",
              "      <th>old_page</th>\n",
              "      <td>145274</td>\n",
              "      <td>145274</td>\n",
              "      <td>145274</td>\n",
              "    </tr>\n",
              "    <tr>\n",
              "      <th rowspan=\"2\" valign=\"top\">treatment</th>\n",
              "      <th>new_page</th>\n",
              "      <td>145311</td>\n",
              "      <td>145311</td>\n",
              "      <td>145311</td>\n",
              "    </tr>\n",
              "    <tr>\n",
              "      <th>old_page</th>\n",
              "      <td>1965</td>\n",
              "      <td>1965</td>\n",
              "      <td>1965</td>\n",
              "    </tr>\n",
              "  </tbody>\n",
              "</table>\n",
              "</div>"
            ],
            "text/plain": [
              "                        user_id  timestamp  converted\n",
              "group     landing_page                               \n",
              "control   new_page         1928       1928       1928\n",
              "          old_page       145274     145274     145274\n",
              "treatment new_page       145311     145311     145311\n",
              "          old_page         1965       1965       1965"
            ]
          },
          "metadata": {
            "tags": []
          },
          "execution_count": 4
        }
      ]
    },
    {
      "cell_type": "markdown",
      "metadata": {
        "id": "M_0iBdyQip8w"
      },
      "source": [
        "Above, you can see that there seems to be an error where some users in the control group saw the new page and some users in the treatment group saw the old page. Since I wasn’t sure which way to revert the misclassified users, I decided to remove it with the code below."
      ]
    },
    {
      "cell_type": "code",
      "metadata": {
        "colab": {
          "base_uri": "https://localhost:8080/",
          "height": 142
        },
        "id": "dUQkAD6SirRJ",
        "outputId": "28c48c63-2686-4ba7-953d-5e8392a6378f"
      },
      "source": [
        "df_cleaned = df.loc[(df['group']=='control') & (df['landing_page']=='old_page') | (df['group']=='treatment') & (df['landing_page']=='new_page')]\n",
        "df_cleaned.groupby(['group','landing_page']).count()"
      ],
      "execution_count": 5,
      "outputs": [
        {
          "output_type": "execute_result",
          "data": {
            "text/html": [
              "<div>\n",
              "<style scoped>\n",
              "    .dataframe tbody tr th:only-of-type {\n",
              "        vertical-align: middle;\n",
              "    }\n",
              "\n",
              "    .dataframe tbody tr th {\n",
              "        vertical-align: top;\n",
              "    }\n",
              "\n",
              "    .dataframe thead th {\n",
              "        text-align: right;\n",
              "    }\n",
              "</style>\n",
              "<table border=\"1\" class=\"dataframe\">\n",
              "  <thead>\n",
              "    <tr style=\"text-align: right;\">\n",
              "      <th></th>\n",
              "      <th></th>\n",
              "      <th>user_id</th>\n",
              "      <th>timestamp</th>\n",
              "      <th>converted</th>\n",
              "    </tr>\n",
              "    <tr>\n",
              "      <th>group</th>\n",
              "      <th>landing_page</th>\n",
              "      <th></th>\n",
              "      <th></th>\n",
              "      <th></th>\n",
              "    </tr>\n",
              "  </thead>\n",
              "  <tbody>\n",
              "    <tr>\n",
              "      <th>control</th>\n",
              "      <th>old_page</th>\n",
              "      <td>145274</td>\n",
              "      <td>145274</td>\n",
              "      <td>145274</td>\n",
              "    </tr>\n",
              "    <tr>\n",
              "      <th>treatment</th>\n",
              "      <th>new_page</th>\n",
              "      <td>145311</td>\n",
              "      <td>145311</td>\n",
              "      <td>145311</td>\n",
              "    </tr>\n",
              "  </tbody>\n",
              "</table>\n",
              "</div>"
            ],
            "text/plain": [
              "                        user_id  timestamp  converted\n",
              "group     landing_page                               \n",
              "control   old_page       145274     145274     145274\n",
              "treatment new_page       145311     145311     145311"
            ]
          },
          "metadata": {
            "tags": []
          },
          "execution_count": 5
        }
      ]
    },
    {
      "cell_type": "code",
      "metadata": {
        "colab": {
          "base_uri": "https://localhost:8080/"
        },
        "id": "dsKP9ttrkW3Z",
        "outputId": "8014e98c-44c7-4af2-80ca-b3d826a12fe2"
      },
      "source": [
        "#Checking duplicated values\n",
        "df_cleaned['user_id'].duplicated().sum()"
      ],
      "execution_count": 6,
      "outputs": [
        {
          "output_type": "execute_result",
          "data": {
            "text/plain": [
              "1"
            ]
          },
          "metadata": {
            "tags": []
          },
          "execution_count": 6
        }
      ]
    },
    {
      "cell_type": "code",
      "metadata": {
        "colab": {
          "base_uri": "https://localhost:8080/",
          "height": 111
        },
        "id": "EMwNjIpCkt1q",
        "outputId": "7ccff96f-dcc1-41bd-b9e3-fbf029f99d4b"
      },
      "source": [
        "#Finding the duplicated user\n",
        "df_cleaned[df_cleaned.duplicated(['user_id'],keep=False)]"
      ],
      "execution_count": 7,
      "outputs": [
        {
          "output_type": "execute_result",
          "data": {
            "text/html": [
              "<div>\n",
              "<style scoped>\n",
              "    .dataframe tbody tr th:only-of-type {\n",
              "        vertical-align: middle;\n",
              "    }\n",
              "\n",
              "    .dataframe tbody tr th {\n",
              "        vertical-align: top;\n",
              "    }\n",
              "\n",
              "    .dataframe thead th {\n",
              "        text-align: right;\n",
              "    }\n",
              "</style>\n",
              "<table border=\"1\" class=\"dataframe\">\n",
              "  <thead>\n",
              "    <tr style=\"text-align: right;\">\n",
              "      <th></th>\n",
              "      <th>user_id</th>\n",
              "      <th>timestamp</th>\n",
              "      <th>group</th>\n",
              "      <th>landing_page</th>\n",
              "      <th>converted</th>\n",
              "    </tr>\n",
              "  </thead>\n",
              "  <tbody>\n",
              "    <tr>\n",
              "      <th>1899</th>\n",
              "      <td>773192</td>\n",
              "      <td>2017-01-09 05:37:58.781806</td>\n",
              "      <td>treatment</td>\n",
              "      <td>new_page</td>\n",
              "      <td>0</td>\n",
              "    </tr>\n",
              "    <tr>\n",
              "      <th>2893</th>\n",
              "      <td>773192</td>\n",
              "      <td>2017-01-14 02:55:59.590927</td>\n",
              "      <td>treatment</td>\n",
              "      <td>new_page</td>\n",
              "      <td>0</td>\n",
              "    </tr>\n",
              "  </tbody>\n",
              "</table>\n",
              "</div>"
            ],
            "text/plain": [
              "      user_id                   timestamp      group landing_page  converted\n",
              "1899   773192  2017-01-09 05:37:58.781806  treatment     new_page          0\n",
              "2893   773192  2017-01-14 02:55:59.590927  treatment     new_page          0"
            ]
          },
          "metadata": {
            "tags": []
          },
          "execution_count": 7
        }
      ]
    },
    {
      "cell_type": "code",
      "metadata": {
        "colab": {
          "base_uri": "https://localhost:8080/"
        },
        "id": "EQ1LvoYUlWVN",
        "outputId": "99f600b7-2e5d-43ad-e2f2-cbcc94bf6549"
      },
      "source": [
        "#Keep the user first instance only\n",
        "df_cleaned=df_cleaned.drop_duplicates(subset=['user_id'],keep='first')\n",
        "df_cleaned['user_id'].duplicated().sum()"
      ],
      "execution_count": 8,
      "outputs": [
        {
          "output_type": "execute_result",
          "data": {
            "text/plain": [
              "0"
            ]
          },
          "metadata": {
            "tags": []
          },
          "execution_count": 8
        }
      ]
    },
    {
      "cell_type": "markdown",
      "metadata": {
        "id": "XZt8qrTjlscB"
      },
      "source": [
        "## Exploratory Data Analysis (EDA)"
      ]
    },
    {
      "cell_type": "markdown",
      "metadata": {
        "id": "5ZbIvRZ6oEyN"
      },
      "source": [
        "Plotting the data against a bar chart to see what the proportion of conversions was for both groups. It appears that they have similar conversion rates (approx. 1/7)"
      ]
    },
    {
      "cell_type": "code",
      "metadata": {
        "colab": {
          "base_uri": "https://localhost:8080/",
          "height": 414
        },
        "id": "omUut9mElvSp",
        "outputId": "56b2cbc9-f066-40c6-d1f1-4f4ea40950a8"
      },
      "source": [
        "df_cleaned.groupby(['group','landing_page','converted']).size().plot.bar()\n",
        "#size returns the number of elements in this object"
      ],
      "execution_count": 9,
      "outputs": [
        {
          "output_type": "execute_result",
          "data": {
            "text/plain": [
              "<matplotlib.axes._subplots.AxesSubplot at 0x7fd051d70128>"
            ]
          },
          "metadata": {
            "tags": []
          },
          "execution_count": 9
        },
        {
          "output_type": "display_data",
          "data": {
            "image/png": "[encoded data removed]",
            "text/plain": [
              "<Figure size 432x288 with 1 Axes>"
            ]
          },
          "metadata": {
            "tags": [],
            "needs_background": "light"
          }
        }
      ]
    },
    {
      "cell_type": "markdown",
      "metadata": {
        "id": "7GvwaT26oHpf"
      },
      "source": [
        "Proportion between the number of users in each group"
      ]
    },
    {
      "cell_type": "code",
      "metadata": {
        "colab": {
          "base_uri": "https://localhost:8080/",
          "height": 265
        },
        "id": "LGtF9TxnoM3y",
        "outputId": "ab9594be-84c9-4214-9f10-73d296cceb40"
      },
      "source": [
        "df_cleaned['landing_page'].value_counts().plot.pie()"
      ],
      "execution_count": 10,
      "outputs": [
        {
          "output_type": "execute_result",
          "data": {
            "text/plain": [
              "<matplotlib.axes._subplots.AxesSubplot at 0x7fd051ce4b38>"
            ]
          },
          "metadata": {
            "tags": []
          },
          "execution_count": 10
        },
        {
          "output_type": "display_data",
          "data": {
            "image/png": "[encoded data removed]",
            "text/plain": [
              "<Figure size 432x288 with 1 Axes>"
            ]
          },
          "metadata": {
            "tags": []
          }
        }
      ]
    },
    {
      "cell_type": "markdown",
      "metadata": {
        "id": "YRxrDr00ooa7"
      },
      "source": [
        "## Data Preparation"
      ]
    },
    {
      "cell_type": "code",
      "metadata": {
        "colab": {
          "base_uri": "https://localhost:8080/"
        },
        "id": "honWv5Q5oqPt",
        "outputId": "c4af0501-9e35-4ef8-8400-3b2974837955"
      },
      "source": [
        "#Re-organizing the groups to perform the calculations\n",
        "a = df_cleaned[df_cleaned['group']=='control']\n",
        "b = df_cleaned[df_cleaned['group']=='treatment']\n",
        "\n",
        "#Calculations for all possibilities\n",
        "a_click = a.converted.sum() #sum all the values 1 (converted)\n",
        "a_noclick = a.converted.size - a.converted.sum() #size is the total number of observations\n",
        "b_click = b.converted.sum()\n",
        "b_noclick = b.converted.size - b.converted.sum()\n",
        "\n",
        "#Creta numpy array, which assumes the format of a contingency table (input for scipy.stats.chi2_contingency)\n",
        "T = np.array([[a_click, a_noclick], [b_click, b_noclick]])\n",
        "print(T)"
      ],
      "execution_count": 18,
      "outputs": [
        {
          "output_type": "stream",
          "text": [
            "[[ 17489 127785]\n",
            " [ 17264 128046]]\n"
          ],
          "name": "stdout"
        }
      ]
    },
    {
      "cell_type": "markdown",
      "metadata": {
        "id": "dr6LT-X9Fp9b"
      },
      "source": [
        "## Chi-Squared Test\n",
        "\n",
        "![image.png](data:image/png;base64,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)\n",
        "\n",
        "- O = observed\n",
        "- E = expected\n",
        "\n",
        "What do click-through rates and conversions have in common? They have a Bernoulli Distribution, the discrete probability distribution that has a probability of being 1 and a probability of being 0. For click-through rates, a user will either click (1) or not click (0). Similarly, for conversions, a user will either convert (1) or not convert (0)."
      ]
    },
    {
      "cell_type": "code",
      "metadata": {
        "colab": {
          "base_uri": "https://localhost:8080/"
        },
        "id": "2AnjwDUWF45m",
        "outputId": "7f03c76b-4a1c-42aa-f4ff-caf4c3241950"
      },
      "source": [
        "from scipy import stats\n",
        "\n",
        "#To find out more details about chi2_contingency, visit: https://docs.scipy.org/doc/scipy/reference/generated/scipy.stats.chi2_contingency.html\n",
        "x2 = scipy.stats.chi2_contingency(T,correction=False)\n",
        "print(x2[1]) #We are interested in the p-value, returned in index 1"
      ],
      "execution_count": 25,
      "outputs": [
        {
          "output_type": "stream",
          "text": [
            "0.18988337448194853\n"
          ],
          "name": "stdout"
        }
      ]
    },
    {
      "cell_type": "markdown",
      "metadata": {
        "id": "3usfnGv-Kqqb"
      },
      "source": [
        "### Conclusions\n",
        "\n",
        "P-value is 19%. Thus, considering 5% as the level of significance, the null hypothesis cannot be rejected. In other words, this means that there is no significance in conversions between the old and new webpage."
      ]
    }
  ]
}